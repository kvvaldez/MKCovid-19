{
  "nbformat": 4,
  "nbformat_minor": 0,
  "metadata": {
    "colab": {
      "name": "Split dataset for MKcovid-19 experiments.ipynb",
      "provenance": [],
      "collapsed_sections": []
    },
    "kernelspec": {
      "name": "python3",
      "display_name": "Python 3"
    },
    "language_info": {
      "name": "python"
    }
  },
  "cells": [
    {
      "cell_type": "code",
      "metadata": {
        "colab": {
          "base_uri": "https://localhost:8080/"
        },
        "id": "848l9_bceTpj",
        "outputId": "e472daef-e997-4f6b-9b18-abff5e728dec"
      },
      "source": [
        "import numpy as np\n",
        "from google.colab import drive\n",
        "import glob\n",
        "from collections import Counter\n",
        "import pandas as pd\n",
        "import easydict\n",
        "import shutil\n",
        "from pathlib import Path\n",
        "\n",
        "import matplotlib.pyplot as plt\n",
        "import copy, pickle, os, time\n",
        "import argparse\n",
        "from sklearn.model_selection import train_test_split\n",
        "\n",
        "drive.mount('/content/drive')"
      ],
      "execution_count": 11,
      "outputs": [
        {
          "output_type": "stream",
          "text": [
            "Drive already mounted at /content/drive; to attempt to forcibly remount, call drive.mount(\"/content/drive\", force_remount=True).\n"
          ],
          "name": "stdout"
        }
      ]
    },
    {
      "cell_type": "code",
      "metadata": {
        "id": "dJniA25hex6-"
      },
      "source": [
        "args = easydict.EasyDict(\n",
        "    {\n",
        "    \"size_dataset\": 150,\n",
        "    \"original_dataset_path\": '/content/drive/MyDrive/Articulo/dataset10k/originalData/',\n",
        "    \"selected_dataset_path\": '/content/drive/MyDrive/Articulo/dataset10k/selectData300dt/',\n",
        "    \"path_model\" : '/content/drive/MyDrive/Miguel UNSA/'\n",
        "    })"
      ],
      "execution_count": 12,
      "outputs": []
    },
    {
      "cell_type": "code",
      "metadata": {
        "id": "4LsKhfYxeio4"
      },
      "source": [
        "# Function to select random rows for each class\n",
        "def sampling_k_elements(group, k=args.size_dataset): \n",
        "    if len(group) < k:\n",
        "        return group\n",
        "    return group.sample(k)"
      ],
      "execution_count": 13,
      "outputs": []
    },
    {
      "cell_type": "code",
      "metadata": {
        "id": "xDBz0KsOestu"
      },
      "source": [
        "# Function that reads folder where the source data is and converts it to PD\n",
        "def read_to_pandas(path_folder):\n",
        "  datas={'link':[],'class':[]}\n",
        "  # root_dir needs a trailing slash (i.e. /root/dir/)\n",
        "  for filename in glob.iglob(path_folder + '**/*', recursive=True):\n",
        "    if filename.endswith(\".jpeg\") or filename.endswith(\".jpg\") or filename.endswith(\".png\"): \n",
        "      datas['link'].append(filename)\n",
        "      datas['class'].append(filename.split()[0].split('/')[8])\n",
        "  print(\"Tatal distribution data:\",Counter(datas['class']))\n",
        "  return pd.DataFrame(datas)"
      ],
      "execution_count": 14,
      "outputs": []
    },
    {
      "cell_type": "code",
      "metadata": {
        "id": "1UsDc4l0fWp9"
      },
      "source": [
        "def balance_data(pd_data):\n",
        "  return pd_data.groupby('class').apply(sampling_k_elements).reset_index(drop=True)"
      ],
      "execution_count": 15,
      "outputs": []
    },
    {
      "cell_type": "code",
      "metadata": {
        "id": "kLrutUbRia0j"
      },
      "source": [
        "def concatenate_split_data(pd_balance):\n",
        "  train, val = train_test_split(pd_balance, test_size=0.25, random_state=42)\n",
        "  train['split']='train'\n",
        "  val['split']='val'\n",
        "  all_data = pd.concat([train, val], ignore_index=True, sort=False)\n",
        "  return all_data"
      ],
      "execution_count": 16,
      "outputs": []
    },
    {
      "cell_type": "code",
      "metadata": {
        "id": "0jxRApsXig3o"
      },
      "source": [
        "# Function that copies selected data to specific folder\n",
        "def copy_files_selected(copy_root_path,pd_data):\n",
        "  dynamic_path=copy_root_path\n",
        "  for index, row in pd_data.iterrows():\n",
        "    type_=row['split']\n",
        "    link_=row['link']\n",
        "    class_=row['class']\n",
        "    path_image=link_.split('/')[-1]\n",
        "    shutil.copy(link_, dynamic_path+type_+'/'+class_+'/'+path_image)"
      ],
      "execution_count": 17,
      "outputs": []
    },
    {
      "cell_type": "code",
      "metadata": {
        "colab": {
          "base_uri": "https://localhost:8080/"
        },
        "id": "XBZb11gIfbfw",
        "outputId": "54f83e99-a606-43b2-ac92-d68d942d43b3"
      },
      "source": [
        "pd_all_data=read_to_pandas(args.original_dataset_path)\n",
        "pd_balance=balance_data(pd_all_data)\n",
        "final_data=concatenate_split_data(pd_balance)\n",
        "print(final_data['class'].value_counts())\n",
        "print(\"Total: \",final_data['class'].size)"
      ],
      "execution_count": 18,
      "outputs": [
        {
          "output_type": "stream",
          "text": [
            "Tatal distribution data: Counter({'non': 4341, 'covid': 1300})\n",
            "covid    150\n",
            "non      150\n",
            "Name: class, dtype: int64\n",
            "Total:  300\n"
          ],
          "name": "stdout"
        },
        {
          "output_type": "stream",
          "text": [
            "/usr/local/lib/python3.7/dist-packages/ipykernel_launcher.py:3: SettingWithCopyWarning: \n",
            "A value is trying to be set on a copy of a slice from a DataFrame.\n",
            "Try using .loc[row_indexer,col_indexer] = value instead\n",
            "\n",
            "See the caveats in the documentation: https://pandas.pydata.org/pandas-docs/stable/user_guide/indexing.html#returning-a-view-versus-a-copy\n",
            "  This is separate from the ipykernel package so we can avoid doing imports until\n",
            "/usr/local/lib/python3.7/dist-packages/ipykernel_launcher.py:4: SettingWithCopyWarning: \n",
            "A value is trying to be set on a copy of a slice from a DataFrame.\n",
            "Try using .loc[row_indexer,col_indexer] = value instead\n",
            "\n",
            "See the caveats in the documentation: https://pandas.pydata.org/pandas-docs/stable/user_guide/indexing.html#returning-a-view-versus-a-copy\n",
            "  after removing the cwd from sys.path.\n"
          ],
          "name": "stderr"
        }
      ]
    },
    {
      "cell_type": "code",
      "metadata": {
        "id": "HngDhKVkijDq"
      },
      "source": [
        "copy_files_selected(args.selected_dataset_path, final_data)"
      ],
      "execution_count": null,
      "outputs": []
    },
    {
      "cell_type": "code",
      "metadata": {
        "id": "omvGIsPrwjhk"
      },
      "source": [
        ""
      ],
      "execution_count": null,
      "outputs": []
    }
  ]
}